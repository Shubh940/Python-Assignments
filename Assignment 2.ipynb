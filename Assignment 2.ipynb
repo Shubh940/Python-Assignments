{
 "cells": [
  {
   "cell_type": "code",
   "execution_count": 1,
   "metadata": {},
   "outputs": [
    {
     "data": {
      "text/plain": [
       "10"
      ]
     },
     "execution_count": 1,
     "metadata": {},
     "output_type": "execute_result"
    }
   ],
   "source": [
    "#1.1 Write a Python Program to implement your own myreduce() function which works exactly like Python's \n",
    "#built-in function reduce()  \n",
    "def my_reduce(fcn,seq):\n",
    "    result = 0\n",
    "    for i in seq:\n",
    "        result = fcn(result,i)\n",
    "    return result\n",
    "\n",
    "def fcn(x1,x2):\n",
    "    return x1+x2\n",
    "\n",
    "my_reduce(fcn,[1,2,3,4])"
   ]
  },
  {
   "cell_type": "code",
   "execution_count": 2,
   "metadata": {},
   "outputs": [
    {
     "name": "stdout",
     "output_type": "stream",
     "text": [
      "1\n",
      "2\n",
      "3\n",
      "5\n",
      "7\n",
      "9\n"
     ]
    },
    {
     "data": {
      "text/plain": [
       "[]"
      ]
     },
     "execution_count": 2,
     "metadata": {},
     "output_type": "execute_result"
    }
   ],
   "source": [
    "# 1.2 Write a Python program to implement your own myfilter() function \n",
    "#which works exactly like Python's built-in function filter() \n",
    "def my_filter(fnc,seq):\n",
    "    result = []\n",
    "    for i in seq:\n",
    "        if fnc(i):\n",
    "            result.append(i)\n",
    "    return result\n",
    "    \n",
    "\n",
    "def fnc(x):\n",
    "    if x > 0:\n",
    "        print(x)\n",
    "    \n",
    "my_filter(fnc,[1,2,3,-4,5,-6,7,-8,9])"
   ]
  },
  {
   "cell_type": "code",
   "execution_count": 7,
   "metadata": {},
   "outputs": [
    {
     "name": "stdout",
     "output_type": "stream",
     "text": [
      "['A', 'C', 'A', 'D', 'G', 'I', 'L', 'D']\n",
      "['x', 'xx', 'xxx', 'xxxx', 'y', 'yy', 'yyy', 'yyyy', 'z', 'zz', 'zzz', 'zzzz']\n",
      "['x', 'y', 'z', 'xx', 'yy', 'zz', 'xxx', 'yyy', 'zzz', 'xxxx', 'yyyy', 'zzzz']\n"
     ]
    }
   ],
   "source": [
    "#2.0 Write List comprehensions to produce the following Lists \n",
    "#['A', 'C', 'A', 'D', 'G', 'I', ’L’, ‘ D’] \n",
    "str1 = 'ACADGILD'\n",
    "lst = []\n",
    "for i in str1:\n",
    "    lst.append(i)\n",
    "\n",
    "print(lst)\n",
    "\n",
    "\n",
    "#['x', 'xx', 'xxx', 'xxxx', 'y', 'yy', 'yyy', 'yyyy', 'z', 'zz', 'zzz', 'zzzz']\n",
    "str2 = 'xyz'\n",
    "lst2 = []\n",
    "for i in str2:\n",
    "    for j in range(1,5):\n",
    "        lst2.append(j*i)\n",
    "print(lst2)\n",
    "\n",
    "\n",
    "#['x', 'y', 'z', 'xx', 'yy', 'zz', 'xx', 'yy', 'zz', 'xxxx', 'yyyy', 'zzzz']\n",
    "str3 = 'xyz'\n",
    "lst3 = []\n",
    "for i in range(1,5):\n",
    "    for j in str3:\n",
    "        lst3.append(j*i)\n",
    "\n",
    "print(lst3)"
   ]
  },
  {
   "cell_type": "code",
   "execution_count": 53,
   "metadata": {},
   "outputs": [
    {
     "name": "stdout",
     "output_type": "stream",
     "text": [
      "[[2], [3], [4], [3], [4], [5], [4], [5], [6]]\n",
      "[[2, 3, 4, 5], [3, 4, 5, 6], [4, 5, 6, 7], [5, 6, 7, 8]]\n",
      "[(1, 1), (2, 1), (3, 1), (1, 2), (2, 2), (3, 2), (1, 3), (2, 3), (3, 3)]\n"
     ]
    }
   ],
   "source": [
    "#[[2], [3], [4], [3], [4], [5], [4], [5], [6]]\n",
    "lst1 = [2,3,4]\n",
    "result1 = [ [item+num] for item in lst1 for num in range(0,3)]\n",
    "print(str(result1))\n",
    "\n",
    "#[[2, 3, 4, 5], [3, 4, 5, 6], [4, 5, 6, 7], [5, 6, 7, 8]]\n",
    "lst2 = [2,3,4,5]\n",
    "result2 = [ [item+num for item in lst2] for num in range(0,4)  ]\n",
    "print(str(result2))\n",
    "\n",
    "#[(1, 1), (2, 1), (3, 1), (1, 2), (2, 2), (3, 2), (1, 3), (2, 3), (3, 3)]\n",
    "lst3=[1,2,3]\n",
    "result3 = [ (b,a) for a in lst3 for b in lst3]\n",
    "print(str(result3))\n"
   ]
  },
  {
   "cell_type": "code",
   "execution_count": 55,
   "metadata": {},
   "outputs": [
    {
     "name": "stdout",
     "output_type": "stream",
     "text": [
      "ProjectAssignment\n",
      "Submitted by Rahul Tiwari\n"
     ]
    }
   ],
   "source": [
    "#3.0 Implement a function longestWord() that takes a list of words and returns the longest one\n",
    "def longestWord(lst):\n",
    "    wrd_len = []\n",
    "    for n in lst:\n",
    "        wrd_len.append((len(n), n))\n",
    "    wrd_len.sort()\n",
    "    return wrd_len[-1][1]\n",
    "\n",
    "print(longestWord([\"Rahul\", \"Tiwari\", \"ProjectAssignment\"]))\n",
    "print(longestWord([\"Rahul\", \"Submitted by Rahul Tiwari\", \"Project Assignment\"]))\n"
   ]
  },
  {
   "cell_type": "code",
   "execution_count": 5,
   "metadata": {},
   "outputs": [
    {
     "name": "stdout",
     "output_type": "stream",
     "text": [
      "30.0\n"
     ]
    }
   ],
   "source": [
    "#1.1 Write a Python Program(with class concepts) to find the area of the triangle using the below formula.\n",
    "#    area = (s*(s-a)*(s-b)*(s-c)) ** 0.5\n",
    "#Function to take the length of the sides of triangle from user should be defined in the parent\n",
    "#class and function to calculate the area should be defined in subclass.\n",
    "\n",
    "class Sides():\n",
    "    \"\"\"ENTER THE SIDES OF TRIANGLE\"\"\"\n",
    "    def __init__(self,a,b,c):\n",
    "        self.a = a\n",
    "        self.b = b\n",
    "        self.c = c\n",
    "        \n",
    "class AreaofTriangle(Sides):\n",
    "    \"\"\"Calculating the Area in Sub Class\"\"\"\n",
    "    def __init__(self, a,b,c):\n",
    "        super().__init__(a,b,c)\n",
    "            \n",
    "    def area(self):\n",
    "        s = (self.a+self.b+self.c)* 0.5\n",
    "        area1 = (s*(s-self.a)*(s-self.b)*(s-self.c)) ** 0.5 \n",
    "        return area1\n",
    "    \n",
    "ar = AreaofTriangle(5,12,13)\n",
    "print(ar.area())"
   ]
  },
  {
   "cell_type": "code",
   "execution_count": 5,
   "metadata": {},
   "outputs": [
    {
     "name": "stdout",
     "output_type": "stream",
     "text": [
      "['FiveSIXSEVEN']\n"
     ]
    }
   ],
   "source": [
    "#1.2  Write a function filter_long_words() that takes a list of words and an integer n and returns the list\n",
    "#     of words that are longer than n.\n",
    "\n",
    "def filter_long_words(input_lst,n): \n",
    "    lst = []\n",
    "    \n",
    "    for i in range(len(input_lst)):\n",
    "        if len(input_lst[i]) > n:\n",
    "            lst.append(input_lst[i])\n",
    "    \n",
    "    return lst\n",
    " \n",
    "print(filter_long_words(['One','Two','Three','Four','FiveSIXSEVEN'],9))"
   ]
  },
  {
   "cell_type": "code",
   "execution_count": 11,
   "metadata": {},
   "outputs": [
    {
     "data": {
      "text/plain": [
       "[2, 5, 10]"
      ]
     },
     "execution_count": 11,
     "metadata": {},
     "output_type": "execute_result"
    }
   ],
   "source": [
    "#2.1 Write a Python program using function concept that maps list of words into a list of integers\n",
    "#    representing the lengths of the corresponding words.\n",
    "#    Hint: If a list [ ab,cde,erty] is passed on to the python function output should come as [2,3,4]\n",
    "#    Here 2,3 and 4 are the lengths of the words in the list.\n",
    "\n",
    "def word_lengths(wrd_list):\n",
    "    lengths = []\n",
    "    for i in wrd_list:\n",
    "        lengths.append(len(i))\n",
    "    return lengths\n",
    "\n",
    "word_lengths(['ab','ceede','fghyyyyyey'])"
   ]
  },
  {
   "cell_type": "code",
   "execution_count": 15,
   "metadata": {},
   "outputs": [
    {
     "data": {
      "text/plain": [
       "True"
      ]
     },
     "execution_count": 15,
     "metadata": {},
     "output_type": "execute_result"
    }
   ],
   "source": [
    "#2.2 Write a function that takes a character (i.e. a string of length 1) and returns True if it is a vowel, \n",
    "#    False otherwise.\n",
    "\n",
    "def is_vowel(chr):\n",
    "    vowels = ('a', 'e', 'i', 'o', 'u')\n",
    "    if chr not in vowels:\n",
    "        return False\n",
    "    else:\n",
    "        return True\n",
    "\n",
    "is_vowel('a')"
   ]
  },
  {
   "cell_type": "code",
   "execution_count": null,
   "metadata": {},
   "outputs": [],
   "source": []
  }
 ],
 "metadata": {
  "kernelspec": {
   "display_name": "Python 3",
   "language": "python",
   "name": "python3"
  },
  "language_info": {
   "codemirror_mode": {
    "name": "ipython",
    "version": 3
   },
   "file_extension": ".py",
   "mimetype": "text/x-python",
   "name": "python",
   "nbconvert_exporter": "python",
   "pygments_lexer": "ipython3",
   "version": "3.6.5"
  }
 },
 "nbformat": 4,
 "nbformat_minor": 2
}
