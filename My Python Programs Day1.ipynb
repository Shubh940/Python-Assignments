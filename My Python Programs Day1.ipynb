{
 "cells": [
  {
   "cell_type": "code",
   "execution_count": 1,
   "metadata": {},
   "outputs": [
    {
     "name": "stdout",
     "output_type": "stream",
     "text": [
      "Hello Coders, \n",
      "\t Today you will start learning Python by Heart.\n",
      "\t\t Hope you enjoy the Journey!!\n"
     ]
    }
   ],
   "source": [
    "#To print the Sentence with some default Indentation!!!\n",
    "#Use of Special and Escape Sequence Characters \\n \\t\n",
    "        \n",
    "print('Hello Coders, \\n\\t Today you will start learning Python by Heart.\\n\\t\\t Hope you enjoy the Journey!!')"
   ]
  },
  {
   "cell_type": "code",
   "execution_count": 7,
   "metadata": {},
   "outputs": [
    {
     "name": "stdout",
     "output_type": "stream",
     "text": [
      "sys.version_info(major=3, minor=7, micro=6, releaselevel='final', serial=0)\n",
      "3.7.6 (default, Jan  8 2020, 20:23:39) [MSC v.1916 64 bit (AMD64)]\n"
     ]
    }
   ],
   "source": [
    "#To check the version of Python which you are using or installed?\n",
    "\n",
    "import sys  #It provides access to some variables used or maintained by the interpreter itself.\n",
    "print(sys.version_info)\n",
    "print(sys.version)"
   ]
  },
  {
   "cell_type": "code",
   "execution_count": 13,
   "metadata": {},
   "outputs": [
    {
     "name": "stdout",
     "output_type": "stream",
     "text": [
      "Radius of the circle is: 6\n",
      "The area of the circle with radius 6 is: 113.09733552923255\n"
     ]
    }
   ],
   "source": [
    "#To write a code which accepts the radius of a circle from the user and calculates the area of circle?\n",
    "\n",
    "from math import pi\n",
    "\n",
    "rad = int(input(\"Radius of the circle is: \"))\n",
    "print(\"The area of the circle with radius \" + str(rad) + \" is: \" + str((pi) * (rad**2)))"
   ]
  },
  {
   "cell_type": "code",
   "execution_count": 15,
   "metadata": {},
   "outputs": [
    {
     "name": "stdout",
     "output_type": "stream",
     "text": [
      "Enter the name/string:Rahul\n",
      "a\n"
     ]
    }
   ],
   "source": [
    "#To get input a String of your Choice from user and print it in reverse order?\n",
    "\n",
    "st = input('Enter the name/string:')\n",
    "#print(st[::-1]) #Part of Slicing & Indexing in Strings st[1:2]\n",
    "print(st[1:2])"
   ]
  },
  {
   "cell_type": "code",
   "execution_count": 16,
   "metadata": {},
   "outputs": [
    {
     "name": "stdout",
     "output_type": "stream",
     "text": [
      "Enter your sequence:Rahul 3.4 Floater Int 4.6\n",
      "Your List: ['Rahul', '3.4', 'Floater', 'Int', '4.6']\n"
     ]
    }
   ],
   "source": [
    "#Write a Python program which accepts a sequence from user and generate a list with the input?\n",
    "\n",
    "lst = input('Enter your sequence:')\n",
    "lst_new = lst.split(' ') #Method/Function to split the values for a list dataype in Python.\n",
    "\n",
    "print('Your List:' ,lst_new)"
   ]
  },
  {
   "cell_type": "code",
   "execution_count": null,
   "metadata": {},
   "outputs": [],
   "source": []
  }
 ],
 "metadata": {
  "kernelspec": {
   "display_name": "Python 3",
   "language": "python",
   "name": "python3"
  },
  "language_info": {
   "codemirror_mode": {
    "name": "ipython",
    "version": 3
   },
   "file_extension": ".py",
   "mimetype": "text/x-python",
   "name": "python",
   "nbconvert_exporter": "python",
   "pygments_lexer": "ipython3",
   "version": "3.7.6"
  }
 },
 "nbformat": 4,
 "nbformat_minor": 4
}
