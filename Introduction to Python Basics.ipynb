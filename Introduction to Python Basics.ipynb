{
 "cells": [
  {
   "cell_type": "code",
   "execution_count": 2,
   "metadata": {},
   "outputs": [],
   "source": [
    "#Introduction Python Programming\n",
    "#Introduction to Python Datatypes \n",
    "#(int,float,strings,lists[],dictionaries{},tuples(),sets{},Boolean values)\n",
    "#Arithmetical Operators(+ - * /)"
   ]
  },
  {
   "cell_type": "code",
   "execution_count": 2,
   "metadata": {},
   "outputs": [
    {
     "data": {
      "text/plain": [
       "float"
      ]
     },
     "execution_count": 2,
     "metadata": {},
     "output_type": "execute_result"
    }
   ],
   "source": [
    "#Int datatype for Integers\n",
    "a = 34\n",
    "type(a)\n",
    "\n",
    "#Float datatype\n",
    "a = 3.5\n",
    "type(a)"
   ]
  },
  {
   "cell_type": "code",
   "execution_count": 12,
   "metadata": {},
   "outputs": [
    {
     "name": "stdout",
     "output_type": "stream",
     "text": [
      "{1, 2, 3, 4, 5, 6}\n"
     ]
    },
    {
     "data": {
      "text/plain": [
       "set"
      ]
     },
     "execution_count": 12,
     "metadata": {},
     "output_type": "execute_result"
    }
   ],
   "source": [
    "#List Datatype\n",
    "lst = ['Rahul',1.5,\"Tiwari\",2.5] #mutable object & can be updated\n",
    "type(lst)\n",
    "\n",
    "#Tuple Datatype\n",
    "tpl = ('Rahul',1.5,\"Tiwari\",2.5) #immutable objects, can't be updated\n",
    "type(tpl)\n",
    "\n",
    "#Dictionary Data-type Key-Value Pairs\n",
    "dict = {'1':'Lucknow', '2':'Allahabad'}\n",
    "type(dict)\n",
    "\n",
    "#Set Datatype(For unique data-set)\n",
    "a = [1,2,3,3,4,5,5,6]\n",
    "st = set(a)\n",
    "print(st)\n",
    "type(st)\n",
    "\n",
    "#Boolean Variables\n",
    "a == True/False"
   ]
  },
  {
   "cell_type": "markdown",
   "metadata": {},
   "source": [
    "Mathematical Operations with Numbers - \n",
    "\n",
    "+ Addition\n",
    "- Substraction\n",
    "* Multiply\n",
    "** Power of\n",
    "\n",
    "Division - \n",
    "7/4  O/P - 1.75\n",
    "7//4 O/P - 1(FLOOR DIVISION QUOTIENT)\n",
    "7%4  O/P - 3 (MODULO, PROVIDES REMAINDER)"
   ]
  },
  {
   "cell_type": "code",
   "execution_count": 21,
   "metadata": {},
   "outputs": [
    {
     "data": {
      "text/plain": [
       "3"
      ]
     },
     "execution_count": 21,
     "metadata": {},
     "output_type": "execute_result"
    }
   ],
   "source": [
    "7%4"
   ]
  },
  {
   "cell_type": "code",
   "execution_count": 23,
   "metadata": {},
   "outputs": [
    {
     "data": {
      "text/plain": [
       "547"
      ]
     },
     "execution_count": 23,
     "metadata": {},
     "output_type": "execute_result"
    }
   ],
   "source": [
    "#Order of operations(BODMAS Rule)\n",
    "(5 + 50) * 10 - 3"
   ]
  },
  {
   "cell_type": "code",
   "execution_count": 28,
   "metadata": {},
   "outputs": [
    {
     "data": {
      "text/plain": [
       "16"
      ]
     },
     "execution_count": 28,
     "metadata": {},
     "output_type": "execute_result"
    }
   ],
   "source": [
    "#DAY2 - STRINGS & OPERATIONS POSSIBLE ON STRINGS\n",
    "\n",
    "#String in layman/common language we can say any set of words/sentence is a string. To be specific for Python Interpreter \n",
    "#anything written in Single/Double Inverted Commas is String.(No difference between '' & \"\").\n",
    "\n",
    "#LEN FUNCTION: \n",
    "len('Hello World')\n",
    "\n",
    "\n",
    "st = \"Hello World! 123\"\n",
    "\n",
    "\n",
    "len(st)"
   ]
  },
  {
   "cell_type": "code",
   "execution_count": 35,
   "metadata": {},
   "outputs": [
    {
     "data": {
      "text/plain": [
       "'Hel'"
      ]
     },
     "execution_count": 35,
     "metadata": {},
     "output_type": "execute_result"
    }
   ],
   "source": [
    "#STRING INDEXING\n",
    "\n",
    "s = 'Hello World'\n",
    "s[0:3]\n",
    "#s[2]\n",
    "\n",
    "#Grab everything past the first term all the way to the length of s which is len(s)\n",
    "#s[1:]\n",
    "\n",
    "#Grab everything UP TO the 3rd index\n",
    "#s[:3]\n"
   ]
  },
  {
   "cell_type": "code",
   "execution_count": 38,
   "metadata": {},
   "outputs": [
    {
     "data": {
      "text/plain": [
       "'Hello Worl'"
      ]
     },
     "execution_count": 38,
     "metadata": {},
     "output_type": "execute_result"
    }
   ],
   "source": [
    "#STRING INDEXING SOME MORE EXAMPLES\n",
    "\n",
    "s = 'Hello World'\n",
    "#Grab Everything\n",
    "s[:-1]\n",
    "\n",
    "#Last letter (one index behind 0 so it loops back around)\n",
    "#s[-1]\n",
    "\n",
    "#Grab everything but the last letter\n",
    "#s[:-1]"
   ]
  },
  {
   "cell_type": "code",
   "execution_count": 46,
   "metadata": {},
   "outputs": [
    {
     "name": "stdout",
     "output_type": "stream",
     "text": [
      "Hello World concatenate me!\n",
      "Hello World concatenate me! 123\n"
     ]
    }
   ],
   "source": [
    "#Grab everything, but go in step sizes of 2\n",
    "s = 'Hello World'\n",
    "\n",
    "#s[::-1] #most commonly asked\n",
    "\n",
    "#We can use this to print a string backwards(REVERSE OF STRING)\n",
    "#s[::-1]\n",
    "\n",
    "#Re-assignment of s and concatenation of strings\n",
    "s = s + ' concatenate me!'\n",
    "print(s)\n",
    "\n",
    "s = s + ' 123'\n",
    "print(s)"
   ]
  },
  {
   "cell_type": "code",
   "execution_count": 53,
   "metadata": {},
   "outputs": [
    {
     "name": "stdout",
     "output_type": "stream",
     "text": [
      "Hello World concatenate me! 123\n"
     ]
    },
    {
     "data": {
      "text/plain": [
       "['Hell', ' W', 'rld c', 'ncatenate me! 123']"
      ]
     },
     "execution_count": 53,
     "metadata": {},
     "output_type": "execute_result"
    }
   ],
   "source": [
    "#Concatenate by Multiplying\n",
    "#letter = 'z'\n",
    "#letter*10\n",
    "\n",
    "print(s)\n",
    "#BUILT IN STRING METHODS\n",
    "#s.upper()\n",
    "\n",
    "#s.lower()\n",
    "\n",
    "#Split a string by blank space (this is the default)\n",
    "#s.split()\n",
    "\n",
    "#Split by a specific element (doesn't include the element that was split on)\n",
    "s.split('o')"
   ]
  },
  {
   "cell_type": "code",
   "execution_count": 55,
   "metadata": {},
   "outputs": [
    {
     "name": "stdout",
     "output_type": "stream",
     "text": [
      "Hello Learners. Welcome and All the Best for Learning PYTHON\n"
     ]
    }
   ],
   "source": [
    "#Print Formatting. We can use the .format() method to add formatted objects to printed string statements.\n",
    "\n",
    "#print('Insert another string with curly brackets: {}'.format('The inserted string'))\n",
    "\n",
    "\n",
    "print('Hello {0}. Welcome and All the Best for Learning {1}'.format('Learners','PYTHON'))"
   ]
  },
  {
   "cell_type": "code",
   "execution_count": 58,
   "metadata": {},
   "outputs": [
    {
     "data": {
      "text/plain": [
       "'Hello, World!'"
      ]
     },
     "execution_count": 58,
     "metadata": {},
     "output_type": "execute_result"
    }
   ],
   "source": [
    "#Replace Method\n",
    "#a = \"Hello, World!\"\n",
    "#print(a.replace(\"H\", \"J\"))\n",
    "\n",
    "#Strip Method strips the string & removes whitespaces.\n",
    "a = \"   Hello, World!    \"\n",
    "a = a.strip()\n",
    "a"
   ]
  },
  {
   "cell_type": "code",
   "execution_count": 67,
   "metadata": {},
   "outputs": [
    {
     "name": "stdout",
     "output_type": "stream",
     "text": [
      "ABC\n"
     ]
    }
   ],
   "source": [
    "#To Grab UserName/User ID from given mail ID (Common Scenario asked in Interviews sometimes)\n",
    "a = 'ABC_JOHNNY@gmail.com'\n",
    "username = a.split('@')\n",
    "\n",
    "#print(username[0])\n",
    "\n",
    "print((username[0].split('_'))[0])"
   ]
  },
  {
   "cell_type": "code",
   "execution_count": null,
   "metadata": {},
   "outputs": [],
   "source": []
  }
 ],
 "metadata": {
  "kernelspec": {
   "display_name": "Python 3",
   "language": "python",
   "name": "python3"
  },
  "language_info": {
   "codemirror_mode": {
    "name": "ipython",
    "version": 3
   },
   "file_extension": ".py",
   "mimetype": "text/x-python",
   "name": "python",
   "nbconvert_exporter": "python",
   "pygments_lexer": "ipython3",
   "version": "3.7.6"
  }
 },
 "nbformat": 4,
 "nbformat_minor": 4
}
